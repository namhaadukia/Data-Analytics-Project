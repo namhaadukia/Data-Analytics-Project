{
 "cells": [
  {
   "cell_type": "markdown",
   "metadata": {},
   "source": [
    "# DATA ANALYTICS PROJECT - Airbnb Destinations Revealed\n",
    "\n",
    "Team Members - Ayushee Nigam, Namha Adukia, Param Awasthi, Pearly Ang, Somanath Tripathy"
   ]
  },
  {
   "cell_type": "markdown",
   "metadata": {},
   "source": [
    "# Importing data files from local drive"
   ]
  },
  {
   "cell_type": "code",
   "execution_count": 71,
   "metadata": {},
   "outputs": [],
   "source": [
    "#importing useful libraries\n",
    "import pandas as pd\n",
    "import numpy as np\n",
    "from sklearn.model_selection import train_test_split"
   ]
  },
  {
   "cell_type": "code",
   "execution_count": 72,
   "metadata": {},
   "outputs": [],
   "source": [
    "datafile1 = 'age_gender_bkts.csv'\n",
    "datafile2 = 'countries.csv'\n",
    "datafile3 = 'sessions.csv'\n",
    "datafile4 = 'train_users_2.csv'"
   ]
  },
  {
   "cell_type": "code",
   "execution_count": 73,
   "metadata": {},
   "outputs": [],
   "source": [
    "#user data\n",
    "user_data = pd.read_csv(datafile1)\n",
    "#country data\n",
    "country = pd.read_csv(datafile2)\n",
    "#session data\n",
    "session = pd.read_csv(datafile3)\n",
    "#training data\n",
    "training_data = pd.read_csv(datafile4)"
   ]
  },
  {
   "cell_type": "markdown",
   "metadata": {},
   "source": [
    "# Data Preprocessing"
   ]
  },
  {
   "cell_type": "code",
   "execution_count": 74,
   "metadata": {},
   "outputs": [],
   "source": [
    "#Processing session dataset for device_type with maximum time elapsed\n",
    "df1=pd.DataFrame(session.groupby(['user_id', 'device_type'])['secs_elapsed'].sum().reset_index())\n",
    "df3=df1.iloc[df1.groupby('user_id')['secs_elapsed'].agg(pd.Series.idxmax)]\n"
   ]
  },
  {
   "cell_type": "code",
   "execution_count": 75,
   "metadata": {},
   "outputs": [],
   "source": [
    "#Merging Session Dataset for device_type and secs_elapsed\n",
    "training_data=training_data.merge(df3,left_on='id', right_on='user_id', how='left')"
   ]
  },
  {
   "cell_type": "code",
   "execution_count": 76,
   "metadata": {},
   "outputs": [],
   "source": [
    "#Converting columns to date-time objects\n",
    "training_data['date_first_booking'] = pd.to_datetime(training_data['date_first_booking'])\n",
    "training_data['date_account_created'] = pd.to_datetime(training_data['date_account_created'])"
   ]
  },
  {
   "cell_type": "code",
   "execution_count": 77,
   "metadata": {},
   "outputs": [
    {
     "data": {
      "text/plain": [
       "0.25     249972.5\n",
       "0.50     835625.0\n",
       "0.75    1901525.0\n",
       "Name: secs_elapsed, dtype: float64"
      ]
     },
     "execution_count": 77,
     "metadata": {},
     "output_type": "execute_result"
    }
   ],
   "source": [
    "#Checking the quantile of secs_elapsed to classify into groups\n",
    "training_data['secs_elapsed'].quantile([0.25,0.5,0.75])"
   ]
  },
  {
   "cell_type": "code",
   "execution_count": 78,
   "metadata": {},
   "outputs": [
    {
     "name": "stderr",
     "output_type": "stream",
     "text": [
      "C:\\Users\\Somanath\\Anaconda3\\lib\\site-packages\\ipykernel_launcher.py:2: SettingWithCopyWarning: \n",
      "A value is trying to be set on a copy of a slice from a DataFrame\n",
      "\n",
      "See the caveats in the documentation: http://pandas.pydata.org/pandas-docs/stable/indexing.html#indexing-view-versus-copy\n",
      "  \n",
      "C:\\Users\\Somanath\\Anaconda3\\lib\\site-packages\\ipykernel_launcher.py:3: SettingWithCopyWarning: \n",
      "A value is trying to be set on a copy of a slice from a DataFrame\n",
      "\n",
      "See the caveats in the documentation: http://pandas.pydata.org/pandas-docs/stable/indexing.html#indexing-view-versus-copy\n",
      "  This is separate from the ipykernel package so we can avoid doing imports until\n",
      "C:\\Users\\Somanath\\Anaconda3\\lib\\site-packages\\ipykernel_launcher.py:4: SettingWithCopyWarning: \n",
      "A value is trying to be set on a copy of a slice from a DataFrame\n",
      "\n",
      "See the caveats in the documentation: http://pandas.pydata.org/pandas-docs/stable/indexing.html#indexing-view-versus-copy\n",
      "  after removing the cwd from sys.path.\n"
     ]
    }
   ],
   "source": [
    "# cleaning the data for irrelevant gender and age:\n",
    "training_data.gender[training_data.gender == 'OTHER'] = '-unknown-'\n",
    "training_data.age[training_data.age<18] = np.nan\n",
    "training_data.age[training_data.age>100] = np.nan"
   ]
  },
  {
   "cell_type": "code",
   "execution_count": 79,
   "metadata": {},
   "outputs": [],
   "source": [
    "# age encoding:\n",
    "training_data['Age_Over40'] = (training_data.age >39).map({True:1,False:0})\n",
    "training_data['Age_31-39'] = ((training_data.age<40) & (training_data.age>30)).map({True:1,False:0})\n",
    "training_data['Age_Under31'] = (training_data.age <31).map({True:1,False:0})\n",
    "training_data['Age_unknown'] = (training_data.age.isnull()).map({True:1,False:0})"
   ]
  },
  {
   "cell_type": "code",
   "execution_count": 80,
   "metadata": {},
   "outputs": [],
   "source": [
    "#Encoding secs_elapsed\n",
    "training_data['secs_elapsed_Over2mn'] = (training_data.secs_elapsed >2000000).map({True:1,False:0})\n",
    "training_data['secs_elapsed_835k-2mn'] = ((training_data.secs_elapsed<2000000) & (training_data.secs_elapsed>835000)).map({True:1,False:0})\n",
    "training_data['secs_elapsed_250k-835k'] = ((training_data.secs_elapsed<835000) & (training_data.secs_elapsed>250000)).map({True:1,False:0})\n",
    "training_data['secs_elapsed_less250k'] = (training_data.secs_elapsed < 250000).map({True:1,False:0})\n",
    "training_data['secs_elapsed_unknown'] = (training_data.secs_elapsed.isnull()).map({True:1,False:0})"
   ]
  },
  {
   "cell_type": "code",
   "execution_count": 81,
   "metadata": {},
   "outputs": [
    {
     "name": "stdout",
     "output_type": "stream",
     "text": [
      "<class 'pandas.core.frame.DataFrame'>\n",
      "Int64Index: 213451 entries, 0 to 213450\n",
      "Data columns (total 28 columns):\n",
      "id                         213451 non-null object\n",
      "date_account_created       213451 non-null datetime64[ns]\n",
      "timestamp_first_active     213451 non-null int64\n",
      "date_first_booking         88908 non-null datetime64[ns]\n",
      "gender                     213451 non-null object\n",
      "age                        122958 non-null float64\n",
      "signup_method              213451 non-null object\n",
      "signup_flow                213451 non-null int64\n",
      "language                   213451 non-null object\n",
      "affiliate_channel          213451 non-null object\n",
      "affiliate_provider         213451 non-null object\n",
      "first_affiliate_tracked    207386 non-null object\n",
      "signup_app                 213451 non-null object\n",
      "first_device_type          213451 non-null object\n",
      "first_browser              213451 non-null object\n",
      "country_destination        213451 non-null object\n",
      "user_id                    73815 non-null object\n",
      "device_type                73815 non-null object\n",
      "secs_elapsed               73815 non-null float64\n",
      "Age_Over40                 213451 non-null int64\n",
      "Age_31-39                  213451 non-null int64\n",
      "Age_Under31                213451 non-null int64\n",
      "Age_unknown                213451 non-null int64\n",
      "secs_elapsed_Over2mn       213451 non-null int64\n",
      "secs_elapsed_835k-2mn      213451 non-null int64\n",
      "secs_elapsed_250k-835k     213451 non-null int64\n",
      "secs_elapsed_less250k      213451 non-null int64\n",
      "secs_elapsed_unknown       213451 non-null int64\n",
      "dtypes: datetime64[ns](2), float64(2), int64(11), object(13)\n",
      "memory usage: 47.2+ MB\n"
     ]
    }
   ],
   "source": [
    "#Checking the ordering of the columns\n",
    "training_data.info()"
   ]
  },
  {
   "cell_type": "code",
   "execution_count": 82,
   "metadata": {},
   "outputs": [],
   "source": [
    "#rearranging the columns to apply one-hot encoding\n",
    "c = training_data.columns.tolist()\n",
    "c.insert(0,c.pop(15))#bringing country_destination to first place        \n",
    "c.insert(0,c.pop(6))#bringing age to first place\n",
    "c.insert(0,c.pop(16))#bringing user_id to first place\n",
    "c.insert(0,c.pop(18))#bringing secs_elapsed to first place\n",
    "training_data1 = training_data[c]"
   ]
  },
  {
   "cell_type": "code",
   "execution_count": 83,
   "metadata": {},
   "outputs": [
    {
     "name": "stdout",
     "output_type": "stream",
     "text": [
      "<class 'pandas.core.frame.DataFrame'>\n",
      "Int64Index: 213451 entries, 0 to 213450\n",
      "Data columns (total 28 columns):\n",
      "secs_elapsed               73815 non-null float64\n",
      "user_id                    73815 non-null object\n",
      "age                        122958 non-null float64\n",
      "country_destination        213451 non-null object\n",
      "id                         213451 non-null object\n",
      "date_account_created       213451 non-null datetime64[ns]\n",
      "timestamp_first_active     213451 non-null int64\n",
      "date_first_booking         88908 non-null datetime64[ns]\n",
      "gender                     213451 non-null object\n",
      "signup_method              213451 non-null object\n",
      "signup_flow                213451 non-null int64\n",
      "language                   213451 non-null object\n",
      "affiliate_channel          213451 non-null object\n",
      "affiliate_provider         213451 non-null object\n",
      "first_affiliate_tracked    207386 non-null object\n",
      "signup_app                 213451 non-null object\n",
      "first_device_type          213451 non-null object\n",
      "first_browser              213451 non-null object\n",
      "device_type                73815 non-null object\n",
      "Age_Over40                 213451 non-null int64\n",
      "Age_31-39                  213451 non-null int64\n",
      "Age_Under31                213451 non-null int64\n",
      "Age_unknown                213451 non-null int64\n",
      "secs_elapsed_Over2mn       213451 non-null int64\n",
      "secs_elapsed_835k-2mn      213451 non-null int64\n",
      "secs_elapsed_250k-835k     213451 non-null int64\n",
      "secs_elapsed_less250k      213451 non-null int64\n",
      "secs_elapsed_unknown       213451 non-null int64\n",
      "dtypes: datetime64[ns](2), float64(2), int64(11), object(13)\n",
      "memory usage: 47.2+ MB\n"
     ]
    }
   ],
   "source": [
    "#checking the ordering for new dataset created\n",
    "training_data1.info()"
   ]
  },
  {
   "cell_type": "markdown",
   "metadata": {},
   "source": [
    "# One Hot Encoding - Making the data model ready"
   ]
  },
  {
   "cell_type": "code",
   "execution_count": 84,
   "metadata": {},
   "outputs": [],
   "source": [
    "#one hot encoding to prepare for modelling\n",
    "en = pd.get_dummies(training_data1.iloc[:,8:19],columns =training_data1.iloc[:,8:19].columns, prefix=list(training_data1.columns[8:19]))\n",
    "\n",
    "## merging the encoding data set inbetween the 2 train data dsets.\n",
    "one_zero = pd.concat([training_data1.iloc[:,:8],en,training_data1.iloc[:,19:28]],axis=1)"
   ]
  },
  {
   "cell_type": "code",
   "execution_count": 85,
   "metadata": {},
   "outputs": [
    {
     "name": "stdout",
     "output_type": "stream",
     "text": [
      "<class 'pandas.core.frame.DataFrame'>\n",
      "Int64Index: 213451 entries, 0 to 213450\n",
      "Columns: 159 entries, gender_-unknown- to device_type_iPodtouch\n",
      "dtypes: uint8(159)\n",
      "memory usage: 34.0 MB\n"
     ]
    }
   ],
   "source": [
    "#checking encoded dataset\n",
    "en.info()"
   ]
  },
  {
   "cell_type": "code",
   "execution_count": 86,
   "metadata": {},
   "outputs": [
    {
     "data": {
      "text/html": [
       "<div>\n",
       "<style scoped>\n",
       "    .dataframe tbody tr th:only-of-type {\n",
       "        vertical-align: middle;\n",
       "    }\n",
       "\n",
       "    .dataframe tbody tr th {\n",
       "        vertical-align: top;\n",
       "    }\n",
       "\n",
       "    .dataframe thead th {\n",
       "        text-align: right;\n",
       "    }\n",
       "</style>\n",
       "<table border=\"1\" class=\"dataframe\">\n",
       "  <thead>\n",
       "    <tr style=\"text-align: right;\">\n",
       "      <th></th>\n",
       "      <th>gender_-unknown-</th>\n",
       "      <th>gender_FEMALE</th>\n",
       "      <th>gender_MALE</th>\n",
       "      <th>signup_method_basic</th>\n",
       "      <th>signup_method_facebook</th>\n",
       "      <th>signup_method_google</th>\n",
       "      <th>signup_flow_0</th>\n",
       "      <th>signup_flow_1</th>\n",
       "      <th>signup_flow_2</th>\n",
       "      <th>signup_flow_3</th>\n",
       "      <th>...</th>\n",
       "      <th>device_type_Blackberry</th>\n",
       "      <th>device_type_Chromebook</th>\n",
       "      <th>device_type_Linux Desktop</th>\n",
       "      <th>device_type_Mac Desktop</th>\n",
       "      <th>device_type_Tablet</th>\n",
       "      <th>device_type_Windows Desktop</th>\n",
       "      <th>device_type_Windows Phone</th>\n",
       "      <th>device_type_iPad Tablet</th>\n",
       "      <th>device_type_iPhone</th>\n",
       "      <th>device_type_iPodtouch</th>\n",
       "    </tr>\n",
       "  </thead>\n",
       "  <tbody>\n",
       "    <tr>\n",
       "      <th>0</th>\n",
       "      <td>1</td>\n",
       "      <td>0</td>\n",
       "      <td>0</td>\n",
       "      <td>0</td>\n",
       "      <td>1</td>\n",
       "      <td>0</td>\n",
       "      <td>1</td>\n",
       "      <td>0</td>\n",
       "      <td>0</td>\n",
       "      <td>0</td>\n",
       "      <td>...</td>\n",
       "      <td>0</td>\n",
       "      <td>0</td>\n",
       "      <td>0</td>\n",
       "      <td>0</td>\n",
       "      <td>0</td>\n",
       "      <td>0</td>\n",
       "      <td>0</td>\n",
       "      <td>0</td>\n",
       "      <td>0</td>\n",
       "      <td>0</td>\n",
       "    </tr>\n",
       "    <tr>\n",
       "      <th>1</th>\n",
       "      <td>0</td>\n",
       "      <td>0</td>\n",
       "      <td>1</td>\n",
       "      <td>0</td>\n",
       "      <td>1</td>\n",
       "      <td>0</td>\n",
       "      <td>1</td>\n",
       "      <td>0</td>\n",
       "      <td>0</td>\n",
       "      <td>0</td>\n",
       "      <td>...</td>\n",
       "      <td>0</td>\n",
       "      <td>0</td>\n",
       "      <td>0</td>\n",
       "      <td>0</td>\n",
       "      <td>0</td>\n",
       "      <td>0</td>\n",
       "      <td>0</td>\n",
       "      <td>0</td>\n",
       "      <td>0</td>\n",
       "      <td>0</td>\n",
       "    </tr>\n",
       "    <tr>\n",
       "      <th>2</th>\n",
       "      <td>0</td>\n",
       "      <td>1</td>\n",
       "      <td>0</td>\n",
       "      <td>1</td>\n",
       "      <td>0</td>\n",
       "      <td>0</td>\n",
       "      <td>0</td>\n",
       "      <td>0</td>\n",
       "      <td>0</td>\n",
       "      <td>1</td>\n",
       "      <td>...</td>\n",
       "      <td>0</td>\n",
       "      <td>0</td>\n",
       "      <td>0</td>\n",
       "      <td>0</td>\n",
       "      <td>0</td>\n",
       "      <td>0</td>\n",
       "      <td>0</td>\n",
       "      <td>0</td>\n",
       "      <td>0</td>\n",
       "      <td>0</td>\n",
       "    </tr>\n",
       "    <tr>\n",
       "      <th>3</th>\n",
       "      <td>0</td>\n",
       "      <td>1</td>\n",
       "      <td>0</td>\n",
       "      <td>0</td>\n",
       "      <td>1</td>\n",
       "      <td>0</td>\n",
       "      <td>1</td>\n",
       "      <td>0</td>\n",
       "      <td>0</td>\n",
       "      <td>0</td>\n",
       "      <td>...</td>\n",
       "      <td>0</td>\n",
       "      <td>0</td>\n",
       "      <td>0</td>\n",
       "      <td>0</td>\n",
       "      <td>0</td>\n",
       "      <td>0</td>\n",
       "      <td>0</td>\n",
       "      <td>0</td>\n",
       "      <td>0</td>\n",
       "      <td>0</td>\n",
       "    </tr>\n",
       "    <tr>\n",
       "      <th>4</th>\n",
       "      <td>1</td>\n",
       "      <td>0</td>\n",
       "      <td>0</td>\n",
       "      <td>1</td>\n",
       "      <td>0</td>\n",
       "      <td>0</td>\n",
       "      <td>1</td>\n",
       "      <td>0</td>\n",
       "      <td>0</td>\n",
       "      <td>0</td>\n",
       "      <td>...</td>\n",
       "      <td>0</td>\n",
       "      <td>0</td>\n",
       "      <td>0</td>\n",
       "      <td>0</td>\n",
       "      <td>0</td>\n",
       "      <td>0</td>\n",
       "      <td>0</td>\n",
       "      <td>0</td>\n",
       "      <td>0</td>\n",
       "      <td>0</td>\n",
       "    </tr>\n",
       "  </tbody>\n",
       "</table>\n",
       "<p>5 rows × 159 columns</p>\n",
       "</div>"
      ],
      "text/plain": [
       "   gender_-unknown-  gender_FEMALE  gender_MALE  signup_method_basic  \\\n",
       "0                 1              0            0                    0   \n",
       "1                 0              0            1                    0   \n",
       "2                 0              1            0                    1   \n",
       "3                 0              1            0                    0   \n",
       "4                 1              0            0                    1   \n",
       "\n",
       "   signup_method_facebook  signup_method_google  signup_flow_0  signup_flow_1  \\\n",
       "0                       1                     0              1              0   \n",
       "1                       1                     0              1              0   \n",
       "2                       0                     0              0              0   \n",
       "3                       1                     0              1              0   \n",
       "4                       0                     0              1              0   \n",
       "\n",
       "   signup_flow_2  signup_flow_3          ...            \\\n",
       "0              0              0          ...             \n",
       "1              0              0          ...             \n",
       "2              0              1          ...             \n",
       "3              0              0          ...             \n",
       "4              0              0          ...             \n",
       "\n",
       "   device_type_Blackberry  device_type_Chromebook  device_type_Linux Desktop  \\\n",
       "0                       0                       0                          0   \n",
       "1                       0                       0                          0   \n",
       "2                       0                       0                          0   \n",
       "3                       0                       0                          0   \n",
       "4                       0                       0                          0   \n",
       "\n",
       "   device_type_Mac Desktop  device_type_Tablet  device_type_Windows Desktop  \\\n",
       "0                        0                   0                            0   \n",
       "1                        0                   0                            0   \n",
       "2                        0                   0                            0   \n",
       "3                        0                   0                            0   \n",
       "4                        0                   0                            0   \n",
       "\n",
       "   device_type_Windows Phone  device_type_iPad Tablet  device_type_iPhone  \\\n",
       "0                          0                        0                   0   \n",
       "1                          0                        0                   0   \n",
       "2                          0                        0                   0   \n",
       "3                          0                        0                   0   \n",
       "4                          0                        0                   0   \n",
       "\n",
       "   device_type_iPodtouch  \n",
       "0                      0  \n",
       "1                      0  \n",
       "2                      0  \n",
       "3                      0  \n",
       "4                      0  \n",
       "\n",
       "[5 rows x 159 columns]"
      ]
     },
     "execution_count": 86,
     "metadata": {},
     "output_type": "execute_result"
    }
   ],
   "source": [
    "#checking encoded dataset\n",
    "en.head()"
   ]
  },
  {
   "cell_type": "code",
   "execution_count": 87,
   "metadata": {},
   "outputs": [
    {
     "data": {
      "text/html": [
       "<div>\n",
       "<style scoped>\n",
       "    .dataframe tbody tr th:only-of-type {\n",
       "        vertical-align: middle;\n",
       "    }\n",
       "\n",
       "    .dataframe tbody tr th {\n",
       "        vertical-align: top;\n",
       "    }\n",
       "\n",
       "    .dataframe thead th {\n",
       "        text-align: right;\n",
       "    }\n",
       "</style>\n",
       "<table border=\"1\" class=\"dataframe\">\n",
       "  <thead>\n",
       "    <tr style=\"text-align: right;\">\n",
       "      <th></th>\n",
       "      <th>secs_elapsed</th>\n",
       "      <th>user_id</th>\n",
       "      <th>age</th>\n",
       "      <th>country_destination</th>\n",
       "      <th>id</th>\n",
       "      <th>date_account_created</th>\n",
       "      <th>timestamp_first_active</th>\n",
       "      <th>date_first_booking</th>\n",
       "      <th>gender_-unknown-</th>\n",
       "      <th>gender_FEMALE</th>\n",
       "      <th>...</th>\n",
       "      <th>device_type_iPodtouch</th>\n",
       "      <th>Age_Over40</th>\n",
       "      <th>Age_31-39</th>\n",
       "      <th>Age_Under31</th>\n",
       "      <th>Age_unknown</th>\n",
       "      <th>secs_elapsed_Over2mn</th>\n",
       "      <th>secs_elapsed_835k-2mn</th>\n",
       "      <th>secs_elapsed_250k-835k</th>\n",
       "      <th>secs_elapsed_less250k</th>\n",
       "      <th>secs_elapsed_unknown</th>\n",
       "    </tr>\n",
       "  </thead>\n",
       "  <tbody>\n",
       "    <tr>\n",
       "      <th>0</th>\n",
       "      <td>NaN</td>\n",
       "      <td>NaN</td>\n",
       "      <td>NaN</td>\n",
       "      <td>NDF</td>\n",
       "      <td>gxn3p5htnn</td>\n",
       "      <td>2010-06-28</td>\n",
       "      <td>20090319043255</td>\n",
       "      <td>NaT</td>\n",
       "      <td>1</td>\n",
       "      <td>0</td>\n",
       "      <td>...</td>\n",
       "      <td>0</td>\n",
       "      <td>0</td>\n",
       "      <td>0</td>\n",
       "      <td>0</td>\n",
       "      <td>1</td>\n",
       "      <td>0</td>\n",
       "      <td>0</td>\n",
       "      <td>0</td>\n",
       "      <td>0</td>\n",
       "      <td>1</td>\n",
       "    </tr>\n",
       "    <tr>\n",
       "      <th>1</th>\n",
       "      <td>NaN</td>\n",
       "      <td>NaN</td>\n",
       "      <td>38.0</td>\n",
       "      <td>NDF</td>\n",
       "      <td>820tgsjxq7</td>\n",
       "      <td>2011-05-25</td>\n",
       "      <td>20090523174809</td>\n",
       "      <td>NaT</td>\n",
       "      <td>0</td>\n",
       "      <td>0</td>\n",
       "      <td>...</td>\n",
       "      <td>0</td>\n",
       "      <td>0</td>\n",
       "      <td>1</td>\n",
       "      <td>0</td>\n",
       "      <td>0</td>\n",
       "      <td>0</td>\n",
       "      <td>0</td>\n",
       "      <td>0</td>\n",
       "      <td>0</td>\n",
       "      <td>1</td>\n",
       "    </tr>\n",
       "    <tr>\n",
       "      <th>2</th>\n",
       "      <td>NaN</td>\n",
       "      <td>NaN</td>\n",
       "      <td>56.0</td>\n",
       "      <td>US</td>\n",
       "      <td>4ft3gnwmtx</td>\n",
       "      <td>2010-09-28</td>\n",
       "      <td>20090609231247</td>\n",
       "      <td>2010-08-02</td>\n",
       "      <td>0</td>\n",
       "      <td>1</td>\n",
       "      <td>...</td>\n",
       "      <td>0</td>\n",
       "      <td>1</td>\n",
       "      <td>0</td>\n",
       "      <td>0</td>\n",
       "      <td>0</td>\n",
       "      <td>0</td>\n",
       "      <td>0</td>\n",
       "      <td>0</td>\n",
       "      <td>0</td>\n",
       "      <td>1</td>\n",
       "    </tr>\n",
       "    <tr>\n",
       "      <th>3</th>\n",
       "      <td>NaN</td>\n",
       "      <td>NaN</td>\n",
       "      <td>42.0</td>\n",
       "      <td>other</td>\n",
       "      <td>bjjt8pjhuk</td>\n",
       "      <td>2011-12-05</td>\n",
       "      <td>20091031060129</td>\n",
       "      <td>2012-09-08</td>\n",
       "      <td>0</td>\n",
       "      <td>1</td>\n",
       "      <td>...</td>\n",
       "      <td>0</td>\n",
       "      <td>1</td>\n",
       "      <td>0</td>\n",
       "      <td>0</td>\n",
       "      <td>0</td>\n",
       "      <td>0</td>\n",
       "      <td>0</td>\n",
       "      <td>0</td>\n",
       "      <td>0</td>\n",
       "      <td>1</td>\n",
       "    </tr>\n",
       "    <tr>\n",
       "      <th>4</th>\n",
       "      <td>NaN</td>\n",
       "      <td>NaN</td>\n",
       "      <td>41.0</td>\n",
       "      <td>US</td>\n",
       "      <td>87mebub9p4</td>\n",
       "      <td>2010-09-14</td>\n",
       "      <td>20091208061105</td>\n",
       "      <td>2010-02-18</td>\n",
       "      <td>1</td>\n",
       "      <td>0</td>\n",
       "      <td>...</td>\n",
       "      <td>0</td>\n",
       "      <td>1</td>\n",
       "      <td>0</td>\n",
       "      <td>0</td>\n",
       "      <td>0</td>\n",
       "      <td>0</td>\n",
       "      <td>0</td>\n",
       "      <td>0</td>\n",
       "      <td>0</td>\n",
       "      <td>1</td>\n",
       "    </tr>\n",
       "  </tbody>\n",
       "</table>\n",
       "<p>5 rows × 176 columns</p>\n",
       "</div>"
      ],
      "text/plain": [
       "   secs_elapsed user_id   age country_destination          id  \\\n",
       "0           NaN     NaN   NaN                 NDF  gxn3p5htnn   \n",
       "1           NaN     NaN  38.0                 NDF  820tgsjxq7   \n",
       "2           NaN     NaN  56.0                  US  4ft3gnwmtx   \n",
       "3           NaN     NaN  42.0               other  bjjt8pjhuk   \n",
       "4           NaN     NaN  41.0                  US  87mebub9p4   \n",
       "\n",
       "  date_account_created  timestamp_first_active date_first_booking  \\\n",
       "0           2010-06-28          20090319043255                NaT   \n",
       "1           2011-05-25          20090523174809                NaT   \n",
       "2           2010-09-28          20090609231247         2010-08-02   \n",
       "3           2011-12-05          20091031060129         2012-09-08   \n",
       "4           2010-09-14          20091208061105         2010-02-18   \n",
       "\n",
       "   gender_-unknown-  gender_FEMALE          ...           \\\n",
       "0                 1              0          ...            \n",
       "1                 0              0          ...            \n",
       "2                 0              1          ...            \n",
       "3                 0              1          ...            \n",
       "4                 1              0          ...            \n",
       "\n",
       "   device_type_iPodtouch  Age_Over40  Age_31-39  Age_Under31  Age_unknown  \\\n",
       "0                      0           0          0            0            1   \n",
       "1                      0           0          1            0            0   \n",
       "2                      0           1          0            0            0   \n",
       "3                      0           1          0            0            0   \n",
       "4                      0           1          0            0            0   \n",
       "\n",
       "   secs_elapsed_Over2mn  secs_elapsed_835k-2mn  secs_elapsed_250k-835k  \\\n",
       "0                     0                      0                       0   \n",
       "1                     0                      0                       0   \n",
       "2                     0                      0                       0   \n",
       "3                     0                      0                       0   \n",
       "4                     0                      0                       0   \n",
       "\n",
       "   secs_elapsed_less250k  secs_elapsed_unknown  \n",
       "0                      0                     1  \n",
       "1                      0                     1  \n",
       "2                      0                     1  \n",
       "3                      0                     1  \n",
       "4                      0                     1  \n",
       "\n",
       "[5 rows x 176 columns]"
      ]
     },
     "execution_count": 87,
     "metadata": {},
     "output_type": "execute_result"
    }
   ],
   "source": [
    "#checking hot encoded final dataset\n",
    "one_zero.head()"
   ]
  },
  {
   "cell_type": "code",
   "execution_count": 88,
   "metadata": {},
   "outputs": [
    {
     "name": "stdout",
     "output_type": "stream",
     "text": [
      "<class 'pandas.core.frame.DataFrame'>\n",
      "Int64Index: 213451 entries, 0 to 213450\n",
      "Columns: 176 entries, secs_elapsed to secs_elapsed_unknown\n",
      "dtypes: datetime64[ns](2), float64(2), int64(10), object(3), uint8(159)\n",
      "memory usage: 61.7+ MB\n"
     ]
    }
   ],
   "source": [
    "#checking hot encoded final dataset\n",
    "one_zero.info()"
   ]
  },
  {
   "cell_type": "markdown",
   "metadata": {},
   "source": [
    "# Final Dataset Obtained - Modelling Begins!"
   ]
  },
  {
   "cell_type": "markdown",
   "metadata": {},
   "source": [
    "Training dataset split into two, so as to evaluate efficiency if the model created by the first half on the second half "
   ]
  },
  {
   "cell_type": "code",
   "execution_count": 89,
   "metadata": {},
   "outputs": [],
   "source": [
    "# test_size = spliting 25% of the data into a test.\n",
    "# random_state = 1 means everytime you do the split you get the same? test and training.\n",
    "x_tr,x_ts,y_tr,y_ts = train_test_split(one_zero,one_zero['country_destination'],test_size=0.25,random_state=1)\n"
   ]
  },
  {
   "cell_type": "code",
   "execution_count": 90,
   "metadata": {},
   "outputs": [
    {
     "name": "stdout",
     "output_type": "stream",
     "text": [
      "<class 'pandas.core.frame.DataFrame'>\n",
      "Int64Index: 160088 entries, 72140 to 128037\n",
      "Columns: 176 entries, secs_elapsed to secs_elapsed_unknown\n",
      "dtypes: datetime64[ns](2), float64(2), int64(10), object(3), uint8(159)\n",
      "memory usage: 46.3+ MB\n"
     ]
    }
   ],
   "source": [
    "#checking the training dataset\n",
    "x_tr.info()"
   ]
  },
  {
   "cell_type": "markdown",
   "metadata": {},
   "source": [
    "Importing Libraries to be used in 3 different types of models:\n",
    "  1) Random Forest Classifier\n",
    "  2) Bernoulli Naïve Bayes\n",
    "  3) Neural Network"
   ]
  },
  {
   "cell_type": "code",
   "execution_count": 33,
   "metadata": {},
   "outputs": [],
   "source": [
    "#importing useful libraries for ML\n",
    "from sklearn.ensemble import RandomForestClassifier\n",
    "from sklearn.metrics import accuracy_score\n",
    "from sklearn.metrics import precision_score,f1_score,recall_score\n",
    "from sklearn.naive_bayes import BernoulliNB\n",
    "from sklearn.neural_network import MLPClassifier"
   ]
  },
  {
   "cell_type": "markdown",
   "metadata": {},
   "source": [
    "Defined a score function to calculate the accuracy level of the models"
   ]
  },
  {
   "cell_type": "code",
   "execution_count": 98,
   "metadata": {},
   "outputs": [],
   "source": [
    "def score(true,pred):\n",
    "    Pres_Score = \"Precision_Score:\" + str(precision_score(true,pred,average='weighted')) #Precision = TP/TP+FP\n",
    "    Recall_Score=\"Recall_Score:\" + str(recall_score(true,pred,average='weighted')) #Recall = TP/TP+FN\n",
    "    F1_Score= \"F1_Score:\" + str(f1_score(true,pred,average='weighted')) #F1 Score = 2*(Recall * Precision) / (Recall + Precision)\n",
    "    return (Pres_Score, Recall_Score, F1_Score)"
   ]
  },
  {
   "cell_type": "markdown",
   "metadata": {},
   "source": [
    "# Random Forest Classifier Model"
   ]
  },
  {
   "cell_type": "markdown",
   "metadata": {},
   "source": [
    "- Do more trees\n",
    "- Finetune existing one"
   ]
  },
  {
   "cell_type": "code",
   "execution_count": 92,
   "metadata": {},
   "outputs": [],
   "source": [
    "#defining RFC as Random Forest Classifier\n",
    "rfc = RandomForestClassifier()"
   ]
  },
  {
   "cell_type": "code",
   "execution_count": 93,
   "metadata": {},
   "outputs": [
    {
     "data": {
      "text/plain": [
       "RandomForestClassifier(bootstrap=True, class_weight=None, criterion='gini',\n",
       "            max_depth=None, max_features='auto', max_leaf_nodes=None,\n",
       "            min_impurity_decrease=0.0, min_impurity_split=None,\n",
       "            min_samples_leaf=1, min_samples_split=2,\n",
       "            min_weight_fraction_leaf=0.0, n_estimators=10, n_jobs=1,\n",
       "            oob_score=False, random_state=None, verbose=0,\n",
       "            warm_start=False)"
      ]
     },
     "execution_count": 93,
     "metadata": {},
     "output_type": "execute_result"
    }
   ],
   "source": [
    "#fitting RF model into our data\n",
    "rfc.fit(x_tr.iloc[:,8:175],y_tr)"
   ]
  },
  {
   "cell_type": "code",
   "execution_count": 94,
   "metadata": {},
   "outputs": [],
   "source": [
    "# predicting the outcome on our test dataset\n",
    "preds = rfc.predict(x_ts.iloc[:,8:175])"
   ]
  },
  {
   "cell_type": "code",
   "execution_count": 95,
   "metadata": {},
   "outputs": [
    {
     "data": {
      "text/plain": [
       "array(['US', 'NDF', 'NDF', ..., 'NDF', 'NDF', 'NDF'], dtype=object)"
      ]
     },
     "execution_count": 95,
     "metadata": {},
     "output_type": "execute_result"
    }
   ],
   "source": [
    "#checking our predicted dataset\n",
    "preds"
   ]
  },
  {
   "cell_type": "code",
   "execution_count": 96,
   "metadata": {},
   "outputs": [
    {
     "name": "stderr",
     "output_type": "stream",
     "text": [
      "C:\\Users\\Somanath\\Anaconda3\\lib\\site-packages\\ipykernel_launcher.py:2: SettingWithCopyWarning: \n",
      "A value is trying to be set on a copy of a slice from a DataFrame.\n",
      "Try using .loc[row_indexer,col_indexer] = value instead\n",
      "\n",
      "See the caveats in the documentation: http://pandas.pydata.org/pandas-docs/stable/indexing.html#indexing-view-versus-copy\n",
      "  \n"
     ]
    }
   ],
   "source": [
    "# Adding the predicted column on our dataset\n",
    "x_ts['predicted_country'] = preds"
   ]
  },
  {
   "cell_type": "code",
   "execution_count": 97,
   "metadata": {},
   "outputs": [
    {
     "data": {
      "text/plain": [
       "('Precision_Score:0.542810010445764',\n",
       " 'Recall_Score:0.6149017109232989',\n",
       " 'F1_Score:0.5728016383993015')"
      ]
     },
     "execution_count": 97,
     "metadata": {},
     "output_type": "execute_result"
    }
   ],
   "source": [
    "#calculating the accuracy_score(recall_score)\n",
    "accuracy_score(x_ts['country_destination'],x_ts['predicted_country'])\n",
    "score(x_ts['country_destination'],x_ts['predicted_country'])"
   ]
  },
  {
   "cell_type": "code",
   "execution_count": 99,
   "metadata": {},
   "outputs": [],
   "source": [
    "# Calculatig feature importance based on RF Classifier\n",
    "featureImportance = pd.DataFrame(rfc.feature_importances_,one_zero.columns[8:175],columns=['feature_importance']).sort_values([\"feature_importance\"],ascending=False)"
   ]
  },
  {
   "cell_type": "code",
   "execution_count": 100,
   "metadata": {},
   "outputs": [
    {
     "data": {
      "text/html": [
       "<div>\n",
       "<style scoped>\n",
       "    .dataframe tbody tr th:only-of-type {\n",
       "        vertical-align: middle;\n",
       "    }\n",
       "\n",
       "    .dataframe tbody tr th {\n",
       "        vertical-align: top;\n",
       "    }\n",
       "\n",
       "    .dataframe thead th {\n",
       "        text-align: right;\n",
       "    }\n",
       "</style>\n",
       "<table border=\"1\" class=\"dataframe\">\n",
       "  <thead>\n",
       "    <tr style=\"text-align: right;\">\n",
       "      <th></th>\n",
       "      <th>feature_importance</th>\n",
       "    </tr>\n",
       "  </thead>\n",
       "  <tbody>\n",
       "    <tr>\n",
       "      <th>Age_unknown</th>\n",
       "      <td>0.103423</td>\n",
       "    </tr>\n",
       "    <tr>\n",
       "      <th>signup_method_facebook</th>\n",
       "      <td>0.043430</td>\n",
       "    </tr>\n",
       "    <tr>\n",
       "      <th>Age_31-39</th>\n",
       "      <td>0.042000</td>\n",
       "    </tr>\n",
       "    <tr>\n",
       "      <th>gender_-unknown-</th>\n",
       "      <td>0.036909</td>\n",
       "    </tr>\n",
       "    <tr>\n",
       "      <th>Age_Under31</th>\n",
       "      <td>0.034218</td>\n",
       "    </tr>\n",
       "    <tr>\n",
       "      <th>Age_Over40</th>\n",
       "      <td>0.032743</td>\n",
       "    </tr>\n",
       "    <tr>\n",
       "      <th>signup_method_basic</th>\n",
       "      <td>0.027768</td>\n",
       "    </tr>\n",
       "    <tr>\n",
       "      <th>first_affiliate_tracked_untracked</th>\n",
       "      <td>0.026938</td>\n",
       "    </tr>\n",
       "    <tr>\n",
       "      <th>first_affiliate_tracked_linked</th>\n",
       "      <td>0.024524</td>\n",
       "    </tr>\n",
       "    <tr>\n",
       "      <th>first_browser_Chrome</th>\n",
       "      <td>0.024419</td>\n",
       "    </tr>\n",
       "    <tr>\n",
       "      <th>gender_FEMALE</th>\n",
       "      <td>0.023969</td>\n",
       "    </tr>\n",
       "    <tr>\n",
       "      <th>secs_elapsed_835k-2mn</th>\n",
       "      <td>0.021191</td>\n",
       "    </tr>\n",
       "    <tr>\n",
       "      <th>first_browser_Firefox</th>\n",
       "      <td>0.020607</td>\n",
       "    </tr>\n",
       "    <tr>\n",
       "      <th>secs_elapsed_Over2mn</th>\n",
       "      <td>0.020490</td>\n",
       "    </tr>\n",
       "    <tr>\n",
       "      <th>gender_MALE</th>\n",
       "      <td>0.019828</td>\n",
       "    </tr>\n",
       "    <tr>\n",
       "      <th>secs_elapsed_250k-835k</th>\n",
       "      <td>0.019576</td>\n",
       "    </tr>\n",
       "    <tr>\n",
       "      <th>secs_elapsed_less250k</th>\n",
       "      <td>0.018921</td>\n",
       "    </tr>\n",
       "    <tr>\n",
       "      <th>first_affiliate_tracked_omg</th>\n",
       "      <td>0.018546</td>\n",
       "    </tr>\n",
       "    <tr>\n",
       "      <th>signup_flow_3</th>\n",
       "      <td>0.017444</td>\n",
       "    </tr>\n",
       "    <tr>\n",
       "      <th>signup_flow_0</th>\n",
       "      <td>0.016694</td>\n",
       "    </tr>\n",
       "    <tr>\n",
       "      <th>first_browser_Safari</th>\n",
       "      <td>0.015032</td>\n",
       "    </tr>\n",
       "    <tr>\n",
       "      <th>first_device_type_Mac Desktop</th>\n",
       "      <td>0.014911</td>\n",
       "    </tr>\n",
       "    <tr>\n",
       "      <th>first_device_type_Windows Desktop</th>\n",
       "      <td>0.014443</td>\n",
       "    </tr>\n",
       "    <tr>\n",
       "      <th>affiliate_channel_sem-brand</th>\n",
       "      <td>0.014423</td>\n",
       "    </tr>\n",
       "    <tr>\n",
       "      <th>device_type_Windows Desktop</th>\n",
       "      <td>0.013935</td>\n",
       "    </tr>\n",
       "    <tr>\n",
       "      <th>affiliate_channel_sem-non-brand</th>\n",
       "      <td>0.013610</td>\n",
       "    </tr>\n",
       "    <tr>\n",
       "      <th>affiliate_provider_google</th>\n",
       "      <td>0.012860</td>\n",
       "    </tr>\n",
       "    <tr>\n",
       "      <th>device_type_Mac Desktop</th>\n",
       "      <td>0.012819</td>\n",
       "    </tr>\n",
       "    <tr>\n",
       "      <th>language_en</th>\n",
       "      <td>0.012592</td>\n",
       "    </tr>\n",
       "    <tr>\n",
       "      <th>signup_app_Web</th>\n",
       "      <td>0.011709</td>\n",
       "    </tr>\n",
       "    <tr>\n",
       "      <th>signup_flow_2</th>\n",
       "      <td>0.011691</td>\n",
       "    </tr>\n",
       "    <tr>\n",
       "      <th>first_browser_IE</th>\n",
       "      <td>0.011254</td>\n",
       "    </tr>\n",
       "    <tr>\n",
       "      <th>first_affiliate_tracked_tracked-other</th>\n",
       "      <td>0.010715</td>\n",
       "    </tr>\n",
       "    <tr>\n",
       "      <th>affiliate_channel_seo</th>\n",
       "      <td>0.010642</td>\n",
       "    </tr>\n",
       "    <tr>\n",
       "      <th>device_type_iPhone</th>\n",
       "      <td>0.010085</td>\n",
       "    </tr>\n",
       "  </tbody>\n",
       "</table>\n",
       "</div>"
      ],
      "text/plain": [
       "                                       feature_importance\n",
       "Age_unknown                                      0.103423\n",
       "signup_method_facebook                           0.043430\n",
       "Age_31-39                                        0.042000\n",
       "gender_-unknown-                                 0.036909\n",
       "Age_Under31                                      0.034218\n",
       "Age_Over40                                       0.032743\n",
       "signup_method_basic                              0.027768\n",
       "first_affiliate_tracked_untracked                0.026938\n",
       "first_affiliate_tracked_linked                   0.024524\n",
       "first_browser_Chrome                             0.024419\n",
       "gender_FEMALE                                    0.023969\n",
       "secs_elapsed_835k-2mn                            0.021191\n",
       "first_browser_Firefox                            0.020607\n",
       "secs_elapsed_Over2mn                             0.020490\n",
       "gender_MALE                                      0.019828\n",
       "secs_elapsed_250k-835k                           0.019576\n",
       "secs_elapsed_less250k                            0.018921\n",
       "first_affiliate_tracked_omg                      0.018546\n",
       "signup_flow_3                                    0.017444\n",
       "signup_flow_0                                    0.016694\n",
       "first_browser_Safari                             0.015032\n",
       "first_device_type_Mac Desktop                    0.014911\n",
       "first_device_type_Windows Desktop                0.014443\n",
       "affiliate_channel_sem-brand                      0.014423\n",
       "device_type_Windows Desktop                      0.013935\n",
       "affiliate_channel_sem-non-brand                  0.013610\n",
       "affiliate_provider_google                        0.012860\n",
       "device_type_Mac Desktop                          0.012819\n",
       "language_en                                      0.012592\n",
       "signup_app_Web                                   0.011709\n",
       "signup_flow_2                                    0.011691\n",
       "first_browser_IE                                 0.011254\n",
       "first_affiliate_tracked_tracked-other            0.010715\n",
       "affiliate_channel_seo                            0.010642\n",
       "device_type_iPhone                               0.010085"
      ]
     },
     "execution_count": 100,
     "metadata": {},
     "output_type": "execute_result"
    }
   ],
   "source": [
    "featureImportance.iloc[:35,:]"
   ]
  },
  {
   "cell_type": "code",
   "execution_count": 101,
   "metadata": {},
   "outputs": [],
   "source": [
    "#Trimming the dataset only to have 35 relevant columns\n",
    "x_tr,x_ts,y_tr,y_ts = train_test_split(one_zero.loc[:,list(featureImportance[:35].index)],one_zero['country_destination'],test_size=0.25,random_state=1)"
   ]
  },
  {
   "cell_type": "code",
   "execution_count": 102,
   "metadata": {},
   "outputs": [],
   "source": [
    "# Fitting RFC again on model\n",
    "rfc = RandomForestClassifier()\n",
    "rfc.fit(x_tr,y_tr)\n",
    "preds = rfc.predict(x_ts)"
   ]
  },
  {
   "cell_type": "code",
   "execution_count": 103,
   "metadata": {},
   "outputs": [
    {
     "data": {
      "text/plain": [
       "0.6167381893821562"
      ]
     },
     "execution_count": 103,
     "metadata": {},
     "output_type": "execute_result"
    }
   ],
   "source": [
    "#calculating the accuracy_score for RFC\n",
    "RF = accuracy_score(y_ts,preds)\n",
    "RF"
   ]
  },
  {
   "cell_type": "markdown",
   "metadata": {},
   "source": [
    "Random Forest Model generated an accuracy score of 61.69%"
   ]
  },
  {
   "cell_type": "code",
   "execution_count": 104,
   "metadata": {},
   "outputs": [
    {
     "data": {
      "text/plain": [
       "('Precision_Score:0.5421048097560853',\n",
       " 'Recall_Score:0.6167381893821562',\n",
       " 'F1_Score:0.5734662552222307')"
      ]
     },
     "execution_count": 104,
     "metadata": {},
     "output_type": "execute_result"
    }
   ],
   "source": [
    "#Other Scores\n",
    "RF_score=score(y_ts, preds)\n",
    "RF_score"
   ]
  },
  {
   "cell_type": "markdown",
   "metadata": {},
   "source": [
    "# Bernoulli Naïve Bayes Model"
   ]
  },
  {
   "cell_type": "code",
   "execution_count": 107,
   "metadata": {},
   "outputs": [],
   "source": [
    "# Fitting NB on model\n",
    "bnb = BernoulliNB()\n",
    "bnb.fit(x_tr,y_tr)\n",
    "preds = bnb.predict(x_ts)"
   ]
  },
  {
   "cell_type": "code",
   "execution_count": 110,
   "metadata": {},
   "outputs": [
    {
     "data": {
      "text/plain": [
       "0.5652043550774881"
      ]
     },
     "execution_count": 110,
     "metadata": {},
     "output_type": "execute_result"
    }
   ],
   "source": [
    "#calculating the accuracy_score for NN\n",
    "BNB = accuracy_score(y_ts,preds)\n",
    "BNB"
   ]
  },
  {
   "cell_type": "markdown",
   "metadata": {},
   "source": [
    "Bernoulli Naïve Bayes Model generated an accuracy score of 56.52%"
   ]
  },
  {
   "cell_type": "code",
   "execution_count": 111,
   "metadata": {},
   "outputs": [
    {
     "name": "stderr",
     "output_type": "stream",
     "text": [
      "C:\\Users\\Somanath\\Anaconda3\\lib\\site-packages\\sklearn\\metrics\\classification.py:1135: UndefinedMetricWarning: Precision is ill-defined and being set to 0.0 in labels with no predicted samples.\n",
      "  'precision', 'predicted', average, warn_for)\n",
      "C:\\Users\\Somanath\\Anaconda3\\lib\\site-packages\\sklearn\\metrics\\classification.py:1135: UndefinedMetricWarning: F-score is ill-defined and being set to 0.0 in labels with no predicted samples.\n",
      "  'precision', 'predicted', average, warn_for)\n"
     ]
    },
    {
     "data": {
      "text/plain": [
       "('Precision_Score:0.5249771972603676',\n",
       " 'Recall_Score:0.5652043550774881',\n",
       " 'F1_Score:0.5387249688490177')"
      ]
     },
     "execution_count": 111,
     "metadata": {},
     "output_type": "execute_result"
    }
   ],
   "source": [
    "#Other Scores\n",
    "BNB_score=score(y_ts, preds)\n",
    "BNB_score"
   ]
  },
  {
   "cell_type": "markdown",
   "metadata": {},
   "source": [
    "# Neural Network Model"
   ]
  },
  {
   "cell_type": "code",
   "execution_count": 112,
   "metadata": {},
   "outputs": [],
   "source": [
    "# Fitting NN on model\n",
    "mc = MLPClassifier()\n",
    "mc.fit(x_tr,y_tr)\n",
    "preds = mc.predict(x_ts)"
   ]
  },
  {
   "cell_type": "code",
   "execution_count": 113,
   "metadata": {},
   "outputs": [
    {
     "data": {
      "text/plain": [
       "0.634016078556303"
      ]
     },
     "execution_count": 113,
     "metadata": {},
     "output_type": "execute_result"
    }
   ],
   "source": [
    "#calculating the accuracy_score for NN\n",
    "NN = accuracy_score(y_ts,preds)\n",
    "NN"
   ]
  },
  {
   "cell_type": "markdown",
   "metadata": {},
   "source": [
    "Neural Network Model generated an accuracy score of 63.40%"
   ]
  },
  {
   "cell_type": "code",
   "execution_count": 115,
   "metadata": {},
   "outputs": [
    {
     "name": "stderr",
     "output_type": "stream",
     "text": [
      "C:\\Users\\Somanath\\Anaconda3\\lib\\site-packages\\sklearn\\metrics\\classification.py:1135: UndefinedMetricWarning: Precision is ill-defined and being set to 0.0 in labels with no predicted samples.\n",
      "  'precision', 'predicted', average, warn_for)\n",
      "C:\\Users\\Somanath\\Anaconda3\\lib\\site-packages\\sklearn\\metrics\\classification.py:1135: UndefinedMetricWarning: F-score is ill-defined and being set to 0.0 in labels with no predicted samples.\n",
      "  'precision', 'predicted', average, warn_for)\n"
     ]
    },
    {
     "data": {
      "text/plain": [
       "('Precision_Score:0.5457433832047138',\n",
       " 'Recall_Score:0.634016078556303',\n",
       " 'F1_Score:0.5846263687773887')"
      ]
     },
     "execution_count": 115,
     "metadata": {},
     "output_type": "execute_result"
    }
   ],
   "source": [
    "#Other Scores\n",
    "NN_score=score(y_ts, preds)\n",
    "NN_score"
   ]
  },
  {
   "cell_type": "code",
   "execution_count": null,
   "metadata": {},
   "outputs": [],
   "source": []
  }
 ],
 "metadata": {
  "kernelspec": {
   "display_name": "Python 3",
   "language": "python",
   "name": "python3"
  },
  "language_info": {
   "codemirror_mode": {
    "name": "ipython",
    "version": 3
   },
   "file_extension": ".py",
   "mimetype": "text/x-python",
   "name": "python",
   "nbconvert_exporter": "python",
   "pygments_lexer": "ipython3",
   "version": "3.6.5"
  }
 },
 "nbformat": 4,
 "nbformat_minor": 2
}
